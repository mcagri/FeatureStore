{
 "cells": [
  {
   "cell_type": "code",
   "execution_count": 1,
   "id": "initial_id",
   "metadata": {
    "collapsed": true,
    "ExecuteTime": {
     "end_time": "2024-02-23T16:32:20.572232541Z",
     "start_time": "2024-02-23T16:32:20.226536277Z"
    }
   },
   "outputs": [
    {
     "data": {
      "text/plain": "                                                 url  \\\n0  https://www.homedepot.com/p/Carhartt-Men-s-3X-...   \n1  https://www.homedepot.com/p/Turmode-30-ft-RP-T...   \n2  https://www.homedepot.com/p/Carolina-Pet-Compa...   \n3  https://www.homedepot.com/p/16-Gauge-Sinks-Ves...   \n4  https://www.homedepot.com/p/Adtec-Men-s-Crazy-...   \n\n                                               title  \\\n0  Men's 3X Large Carbon Heather Cotton/Polyester...   \n1  Turmode 30 ft. RP TNC Female to RP TNC Male Ad...   \n2                         Large Tapestry Bolster Bed   \n3    16-Gauge-Sinks Vessel Sink in White with Faucet   \n4  Men's Crazy Horse 9'' Logger Boot - Steel Toe ...   \n\n                                              images  \\\n0  https://images.thdstatic.com/productImages/a7c...   \n1  https://images.thdstatic.com/productImages/87a...   \n2  https://images.thdstatic.com/productImages/e6b...   \n3  https://images.thdstatic.com/productImages/a6e...   \n4  https://images.thdstatic.com/productImages/e7f...   \n\n                                         description  product_id  \\\n0  This heavyweight, water-repellent hooded sweat...   310090686   \n1  If you need more length between your existing ...   206724580   \n2  Polyester cover resembling rich Italian tapest...   310347105   \n3  It features a rectangle shape. This vessel set...   312338711   \n4  This 9 in. black full grain leather logger boo...   308561619   \n\n            sku        gtin13                 brand   price currency  \\\n0  1.004455e+09  8.868595e+11              Carhartt   64.99      USD   \n1  1.001661e+09  6.697163e+11             Unbranded   71.61      USD   \n2  1.005202e+09  8.300001e+11  Carolina Pet Company  166.83      USD   \n3  1.005103e+09  6.279872e+11             Unbranded  507.63      USD   \n4  1.004096e+09  6.477880e+11                 Adtec  103.59      USD   \n\n  availability                               uniq_id  \\\n0      InStock  ba6b9373-a145-5203-a7fe-5d9ede759dbb   \n1      InStock  70b7dd77-6474-5085-9afa-cda486a7237d   \n2      InStock  8f573cae-947d-5262-8e51-b9381e8babeb   \n3      InStock  3867081f-ea97-5855-8d6d-603b8e81f983   \n4      InStock  e810513f-e5ed-598b-a17b-7ab60a1170fb   \n\n                   scraped_at  \n0  2021-12-14 00:55:53.060268  \n1  2021-12-14 00:55:53.070474  \n2  2021-12-14 00:55:53.677894  \n3  2021-12-14 00:55:53.987718  \n4  2021-12-14 00:55:54.003789  ",
      "text/html": "<div>\n<style scoped>\n    .dataframe tbody tr th:only-of-type {\n        vertical-align: middle;\n    }\n\n    .dataframe tbody tr th {\n        vertical-align: top;\n    }\n\n    .dataframe thead th {\n        text-align: right;\n    }\n</style>\n<table border=\"1\" class=\"dataframe\">\n  <thead>\n    <tr style=\"text-align: right;\">\n      <th></th>\n      <th>url</th>\n      <th>title</th>\n      <th>images</th>\n      <th>description</th>\n      <th>product_id</th>\n      <th>sku</th>\n      <th>gtin13</th>\n      <th>brand</th>\n      <th>price</th>\n      <th>currency</th>\n      <th>availability</th>\n      <th>uniq_id</th>\n      <th>scraped_at</th>\n    </tr>\n  </thead>\n  <tbody>\n    <tr>\n      <th>0</th>\n      <td>https://www.homedepot.com/p/Carhartt-Men-s-3X-...</td>\n      <td>Men's 3X Large Carbon Heather Cotton/Polyester...</td>\n      <td>https://images.thdstatic.com/productImages/a7c...</td>\n      <td>This heavyweight, water-repellent hooded sweat...</td>\n      <td>310090686</td>\n      <td>1.004455e+09</td>\n      <td>8.868595e+11</td>\n      <td>Carhartt</td>\n      <td>64.99</td>\n      <td>USD</td>\n      <td>InStock</td>\n      <td>ba6b9373-a145-5203-a7fe-5d9ede759dbb</td>\n      <td>2021-12-14 00:55:53.060268</td>\n    </tr>\n    <tr>\n      <th>1</th>\n      <td>https://www.homedepot.com/p/Turmode-30-ft-RP-T...</td>\n      <td>Turmode 30 ft. RP TNC Female to RP TNC Male Ad...</td>\n      <td>https://images.thdstatic.com/productImages/87a...</td>\n      <td>If you need more length between your existing ...</td>\n      <td>206724580</td>\n      <td>1.001661e+09</td>\n      <td>6.697163e+11</td>\n      <td>Unbranded</td>\n      <td>71.61</td>\n      <td>USD</td>\n      <td>InStock</td>\n      <td>70b7dd77-6474-5085-9afa-cda486a7237d</td>\n      <td>2021-12-14 00:55:53.070474</td>\n    </tr>\n    <tr>\n      <th>2</th>\n      <td>https://www.homedepot.com/p/Carolina-Pet-Compa...</td>\n      <td>Large Tapestry Bolster Bed</td>\n      <td>https://images.thdstatic.com/productImages/e6b...</td>\n      <td>Polyester cover resembling rich Italian tapest...</td>\n      <td>310347105</td>\n      <td>1.005202e+09</td>\n      <td>8.300001e+11</td>\n      <td>Carolina Pet Company</td>\n      <td>166.83</td>\n      <td>USD</td>\n      <td>InStock</td>\n      <td>8f573cae-947d-5262-8e51-b9381e8babeb</td>\n      <td>2021-12-14 00:55:53.677894</td>\n    </tr>\n    <tr>\n      <th>3</th>\n      <td>https://www.homedepot.com/p/16-Gauge-Sinks-Ves...</td>\n      <td>16-Gauge-Sinks Vessel Sink in White with Faucet</td>\n      <td>https://images.thdstatic.com/productImages/a6e...</td>\n      <td>It features a rectangle shape. This vessel set...</td>\n      <td>312338711</td>\n      <td>1.005103e+09</td>\n      <td>6.279872e+11</td>\n      <td>Unbranded</td>\n      <td>507.63</td>\n      <td>USD</td>\n      <td>InStock</td>\n      <td>3867081f-ea97-5855-8d6d-603b8e81f983</td>\n      <td>2021-12-14 00:55:53.987718</td>\n    </tr>\n    <tr>\n      <th>4</th>\n      <td>https://www.homedepot.com/p/Adtec-Men-s-Crazy-...</td>\n      <td>Men's Crazy Horse 9'' Logger Boot - Steel Toe ...</td>\n      <td>https://images.thdstatic.com/productImages/e7f...</td>\n      <td>This 9 in. black full grain leather logger boo...</td>\n      <td>308561619</td>\n      <td>1.004096e+09</td>\n      <td>6.477880e+11</td>\n      <td>Adtec</td>\n      <td>103.59</td>\n      <td>USD</td>\n      <td>InStock</td>\n      <td>e810513f-e5ed-598b-a17b-7ab60a1170fb</td>\n      <td>2021-12-14 00:55:54.003789</td>\n    </tr>\n  </tbody>\n</table>\n</div>"
     },
     "execution_count": 1,
     "metadata": {},
     "output_type": "execute_result"
    }
   ],
   "source": [
    "import pandas as pd\n",
    "\n",
    "df = pd.read_csv(\"../Data/home_depot_data_1_2021_12.csv\")\n",
    "df.head()"
   ]
  },
  {
   "cell_type": "code",
   "outputs": [],
   "source": [
    "from sqlalchemy import create_engine\n",
    "import configparser\n",
    "\n",
    "config = configparser.ConfigParser()\n",
    "config.read(\"../Config/db.config\")\n",
    "\n",
    "username = config['PG']['POSTGRES_USER']\n",
    "pwd = config['PG']['POSTGRES_PASSWORD']\n",
    "dbname = config['PG']['POSTGRES_DB']\n",
    "url = config['PG']['POSTGRES_URL']\n",
    "port = config['PG']['POSTGRES_PORT']\n",
    "\n",
    "engine = create_engine(\"postgresql+psycopg2://{}:{}@{}:{}/{}\".format(username,pwd,url,port,dbname))"
   ],
   "metadata": {
    "collapsed": false,
    "ExecuteTime": {
     "end_time": "2024-02-23T16:33:40.777237201Z",
     "start_time": "2024-02-23T16:33:40.766387530Z"
    }
   },
   "id": "3ed70414909e62be",
   "execution_count": 3
  },
  {
   "cell_type": "code",
   "outputs": [
    {
     "data": {
      "text/plain": "551"
     },
     "execution_count": 4,
     "metadata": {},
     "output_type": "execute_result"
    }
   ],
   "source": [
    "df.to_sql(name='Products', con=engine)"
   ],
   "metadata": {
    "collapsed": false,
    "ExecuteTime": {
     "end_time": "2024-02-23T16:33:47.780081487Z",
     "start_time": "2024-02-23T16:33:47.615648816Z"
    }
   },
   "id": "26bcdefacee9dc96",
   "execution_count": 4
  },
  {
   "cell_type": "code",
   "outputs": [],
   "source": [
    "Products = df.to_dict('records')"
   ],
   "metadata": {
    "collapsed": false,
    "ExecuteTime": {
     "end_time": "2024-02-23T16:33:51.990368574Z",
     "start_time": "2024-02-23T16:33:51.951812925Z"
    }
   },
   "id": "bd6736a27ff5a8a3",
   "execution_count": 5
  },
  {
   "cell_type": "code",
   "outputs": [],
   "source": [
    "import requests\n",
    "import json\n",
    "\n",
    "url = \"http://127.0.0.1:15001/embedtext\"\n",
    "headers = {\n",
    "  'Content-Type': 'application/json'\n",
    "}\n",
    "\n",
    "\n",
    "for i,product in enumerate(Products):\n",
    "    payload = json.dumps({\n",
    "        \"id\": i,\n",
    "        \"text\": product['title']\n",
    "    })\n",
    "    response = requests.request(\"POST\", url, headers=headers, data=payload)\n",
    "    product['embedding'] = response.json()['embedding']\n",
    "    "
   ],
   "metadata": {
    "collapsed": false,
    "ExecuteTime": {
     "end_time": "2024-02-23T16:36:30.998688828Z",
     "start_time": "2024-02-23T16:36:02.407918046Z"
    }
   },
   "id": "e995d3a44d2a0518",
   "execution_count": 6
  },
  {
   "cell_type": "code",
   "outputs": [],
   "source": [
    "from pymongo import MongoClient\n",
    "\n",
    "username = config['MONGODB']['MONGO_USER']\n",
    "pwd = config['MONGODB']['MONGO_PASSWORD']\n",
    "dbname = config['MONGODB']['MONGO_DB']\n",
    "url = config['MONGODB']['MONGO_URL']\n",
    "port = config['MONGODB']['MONGO_PORT']\n",
    "\n",
    "client = MongoClient(url,\n",
    "                     username=username,\n",
    "                     password=pwd,\n",
    "                     authSource=\"admin\",\n",
    "                     authMechanism='SCRAM-SHA-256')"
   ],
   "metadata": {
    "collapsed": false,
    "ExecuteTime": {
     "end_time": "2024-02-23T16:37:13.408588984Z",
     "start_time": "2024-02-23T16:37:13.294363471Z"
    }
   },
   "id": "668b7e313d864b9b",
   "execution_count": 7
  },
  {
   "cell_type": "code",
   "outputs": [],
   "source": [
    "db = client[dbname]\n",
    "collection = db['Product']\n",
    "collection.insert_many(Products)"
   ],
   "metadata": {
    "collapsed": false
   },
   "id": "1c9aefa3a747f21e",
   "execution_count": null
  }
 ],
 "metadata": {
  "kernelspec": {
   "display_name": "Python 3",
   "language": "python",
   "name": "python3"
  },
  "language_info": {
   "codemirror_mode": {
    "name": "ipython",
    "version": 2
   },
   "file_extension": ".py",
   "mimetype": "text/x-python",
   "name": "python",
   "nbconvert_exporter": "python",
   "pygments_lexer": "ipython2",
   "version": "2.7.6"
  }
 },
 "nbformat": 4,
 "nbformat_minor": 5
}
